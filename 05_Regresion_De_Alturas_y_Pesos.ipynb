{
 "cells": [
  {
   "cell_type": "markdown",
   "id": "815d235f",
   "metadata": {},
   "source": [
    "# Docientos Datos de Peso y Altura"
   ]
  },
  {
   "cell_type": "markdown",
   "id": "c4977ed7",
   "metadata": {},
   "source": [
    "### Descripcion de los datos"
   ]
  },
  {
   "cell_type": "markdown",
   "id": "d13b1fbc",
   "metadata": {},
   "source": [
    "En el ser humano, la altura y el peso son en su mayoría rasgos hereditarios , pero los factores de estilos de vida, dieta, salud y medio ambiente tambien juegan un papel en la determinación de las caracteristicas fisicas del individuo. El conjunto de datos siguiente contiene 200 registros de alturas y pesos humanos. Estos datos fueron obtenidos en 1993 por un estudio prospectivo de entre 25,000 niños desde el nacimiento hasta los 18 años de edad, los cuales se usarón para elaborar las tablas actuales de peso-altura, edad-peso de Hong-Kong. Se desea obtener un modelo por medio del cual pueda determinarse la altura de una persona al conocer su peso."
   ]
  },
  {
   "cell_type": "markdown",
   "id": "a34b0d74",
   "metadata": {},
   "source": [
    "### 1.- Conjunto de Datos"
   ]
  },
  {
   "cell_type": "code",
   "execution_count": 13,
   "id": "a31aaad9",
   "metadata": {},
   "outputs": [],
   "source": [
    "import numpy as np\n",
    "import pandas as pd"
   ]
  },
  {
   "cell_type": "code",
   "execution_count": 47,
   "id": "76f85671",
   "metadata": {},
   "outputs": [
    {
     "name": "stdout",
     "output_type": "stream",
     "text": [
      "        xi      yi\n",
      "0    65.78  112.99\n",
      "1    71.52  136.49\n",
      "2    69.40  153.03\n",
      "3    68.22  142.34\n",
      "4    67.79  144.30\n",
      "..     ...     ...\n",
      "195  65.80  120.84\n",
      "196  66.11  115.78\n",
      "197  68.24  128.30\n",
      "198  68.02  127.47\n",
      "199  71.39  127.88\n",
      "\n",
      "[200 rows x 2 columns]\n",
      "La longitud del conjunto de datos en X es:  200\n",
      "La longitud del conjunto de datos en Y es:  200\n"
     ]
    }
   ],
   "source": [
    "df = pd.read_csv(\"datos_xy.csv\")\n",
    "x= df[\"xi\"]\n",
    "y= df[\"yi\"]\n",
    "print(df)\n",
    "print(\"La longitud del conjunto de datos en X es: \", len(x))\n",
    "print(\"La longitud del conjunto de datos en Y es: \", len(y))"
   ]
  },
  {
   "cell_type": "markdown",
   "id": "3736c1ce",
   "metadata": {},
   "source": [
    "### 2.- Visualización del Conjunto de Datos"
   ]
  },
  {
   "cell_type": "code",
   "execution_count": 25,
   "id": "3a9c0002",
   "metadata": {},
   "outputs": [],
   "source": [
    "import matplotlib.pyplot as plt\n",
    "%matplotlib inline"
   ]
  },
  {
   "cell_type": "code",
   "execution_count": 26,
   "id": "5b85150f",
   "metadata": {},
   "outputs": [
    {
     "data": {
      "image/png": "[encoded data removed]",
      "text/plain": [
       "<Figure size 432x288 with 1 Axes>"
      ]
     },
     "metadata": {
      "needs_background": "light"
     },
     "output_type": "display_data"
    }
   ],
   "source": [
    "plt.plot(x,y,\"b.\")\n",
    "plt.show()"
   ]
  },
  {
   "cell_type": "code",
   "execution_count": 27,
   "id": "f2bcd127",
   "metadata": {},
   "outputs": [
    {
     "data": {
      "image/png": "[encoded data removed]",
      "text/plain": [
       "<Figure size 432x288 with 1 Axes>"
      ]
     },
     "metadata": {
      "needs_background": "light"
     },
     "output_type": "display_data"
    }
   ],
   "source": [
    "plt.plot(x,y,\"b.\")\n",
    "plt.xlabel(\"ALTURAS(Pulgadas)\")\n",
    "plt.ylabel(\"PESOS(Libras)\")\n",
    "plt.show()"
   ]
  },
  {
   "cell_type": "markdown",
   "id": "87b69f27",
   "metadata": {},
   "source": [
    "### 3.- Modificación del Conjunto de Datos"
   ]
  },
  {
   "cell_type": "code",
   "execution_count": 28,
   "id": "445d1715",
   "metadata": {},
   "outputs": [],
   "source": [
    "import numpy as np"
   ]
  },
  {
   "cell_type": "code",
   "execution_count": 29,
   "id": "92ffffb6",
   "metadata": {},
   "outputs": [
    {
     "data": {
      "text/html": [
       "<div>\n",
       "<style scoped>\n",
       "    .dataframe tbody tr th:only-of-type {\n",
       "        vertical-align: middle;\n",
       "    }\n",
       "\n",
       "    .dataframe tbody tr th {\n",
       "        vertical-align: top;\n",
       "    }\n",
       "\n",
       "    .dataframe thead th {\n",
       "        text-align: right;\n",
       "    }\n",
       "</style>\n",
       "<table border=\"1\" class=\"dataframe\">\n",
       "  <thead>\n",
       "    <tr style=\"text-align: right;\">\n",
       "      <th></th>\n",
       "      <th>Altura</th>\n",
       "      <th>Peso</th>\n",
       "    </tr>\n",
       "  </thead>\n",
       "  <tbody>\n",
       "    <tr>\n",
       "      <th>0</th>\n",
       "      <td>65.78</td>\n",
       "      <td>112.99</td>\n",
       "    </tr>\n",
       "    <tr>\n",
       "      <th>1</th>\n",
       "      <td>71.52</td>\n",
       "      <td>136.49</td>\n",
       "    </tr>\n",
       "    <tr>\n",
       "      <th>2</th>\n",
       "      <td>69.40</td>\n",
       "      <td>153.03</td>\n",
       "    </tr>\n",
       "    <tr>\n",
       "      <th>3</th>\n",
       "      <td>68.22</td>\n",
       "      <td>142.34</td>\n",
       "    </tr>\n",
       "    <tr>\n",
       "      <th>4</th>\n",
       "      <td>67.79</td>\n",
       "      <td>144.30</td>\n",
       "    </tr>\n",
       "    <tr>\n",
       "      <th>...</th>\n",
       "      <td>...</td>\n",
       "      <td>...</td>\n",
       "    </tr>\n",
       "    <tr>\n",
       "      <th>195</th>\n",
       "      <td>65.80</td>\n",
       "      <td>120.84</td>\n",
       "    </tr>\n",
       "    <tr>\n",
       "      <th>196</th>\n",
       "      <td>66.11</td>\n",
       "      <td>115.78</td>\n",
       "    </tr>\n",
       "    <tr>\n",
       "      <th>197</th>\n",
       "      <td>68.24</td>\n",
       "      <td>128.30</td>\n",
       "    </tr>\n",
       "    <tr>\n",
       "      <th>198</th>\n",
       "      <td>68.02</td>\n",
       "      <td>127.47</td>\n",
       "    </tr>\n",
       "    <tr>\n",
       "      <th>199</th>\n",
       "      <td>71.39</td>\n",
       "      <td>127.88</td>\n",
       "    </tr>\n",
       "  </tbody>\n",
       "</table>\n",
       "<p>200 rows × 2 columns</p>\n",
       "</div>"
      ],
      "text/plain": [
       "     Altura    Peso\n",
       "0     65.78  112.99\n",
       "1     71.52  136.49\n",
       "2     69.40  153.03\n",
       "3     68.22  142.34\n",
       "4     67.79  144.30\n",
       "..      ...     ...\n",
       "195   65.80  120.84\n",
       "196   66.11  115.78\n",
       "197   68.24  128.30\n",
       "198   68.02  127.47\n",
       "199   71.39  127.88\n",
       "\n",
       "[200 rows x 2 columns]"
      ]
     },
     "execution_count": 29,
     "metadata": {},
     "output_type": "execute_result"
    }
   ],
   "source": [
    "data = {'Altura' : x.to_numpy().flatten(), 'Peso':y.to_numpy().flatten()}\n",
    "df = pd.DataFrame(data)\n",
    "df.head(200)"
   ]
  },
  {
   "cell_type": "code",
   "execution_count": 30,
   "id": "6da6f80c",
   "metadata": {},
   "outputs": [
    {
     "data": {
      "text/html": [
       "<div>\n",
       "<style scoped>\n",
       "    .dataframe tbody tr th:only-of-type {\n",
       "        vertical-align: middle;\n",
       "    }\n",
       "\n",
       "    .dataframe tbody tr th {\n",
       "        vertical-align: top;\n",
       "    }\n",
       "\n",
       "    .dataframe thead th {\n",
       "        text-align: right;\n",
       "    }\n",
       "</style>\n",
       "<table border=\"1\" class=\"dataframe\">\n",
       "  <thead>\n",
       "    <tr style=\"text-align: right;\">\n",
       "      <th></th>\n",
       "      <th>Altura</th>\n",
       "      <th>Peso</th>\n",
       "    </tr>\n",
       "  </thead>\n",
       "  <tbody>\n",
       "    <tr>\n",
       "      <th>0</th>\n",
       "      <td>65.78</td>\n",
       "      <td>112.99</td>\n",
       "    </tr>\n",
       "    <tr>\n",
       "      <th>1</th>\n",
       "      <td>71.52</td>\n",
       "      <td>136.49</td>\n",
       "    </tr>\n",
       "    <tr>\n",
       "      <th>2</th>\n",
       "      <td>69.40</td>\n",
       "      <td>153.03</td>\n",
       "    </tr>\n",
       "    <tr>\n",
       "      <th>3</th>\n",
       "      <td>68.22</td>\n",
       "      <td>142.34</td>\n",
       "    </tr>\n",
       "    <tr>\n",
       "      <th>4</th>\n",
       "      <td>67.79</td>\n",
       "      <td>144.30</td>\n",
       "    </tr>\n",
       "    <tr>\n",
       "      <th>...</th>\n",
       "      <td>...</td>\n",
       "      <td>...</td>\n",
       "    </tr>\n",
       "    <tr>\n",
       "      <th>195</th>\n",
       "      <td>65.80</td>\n",
       "      <td>120.84</td>\n",
       "    </tr>\n",
       "    <tr>\n",
       "      <th>196</th>\n",
       "      <td>66.11</td>\n",
       "      <td>115.78</td>\n",
       "    </tr>\n",
       "    <tr>\n",
       "      <th>197</th>\n",
       "      <td>68.24</td>\n",
       "      <td>128.30</td>\n",
       "    </tr>\n",
       "    <tr>\n",
       "      <th>198</th>\n",
       "      <td>68.02</td>\n",
       "      <td>127.47</td>\n",
       "    </tr>\n",
       "    <tr>\n",
       "      <th>199</th>\n",
       "      <td>71.39</td>\n",
       "      <td>127.88</td>\n",
       "    </tr>\n",
       "  </tbody>\n",
       "</table>\n",
       "<p>200 rows × 2 columns</p>\n",
       "</div>"
      ],
      "text/plain": [
       "     Altura    Peso\n",
       "0     65.78  112.99\n",
       "1     71.52  136.49\n",
       "2     69.40  153.03\n",
       "3     68.22  142.34\n",
       "4     67.79  144.30\n",
       "..      ...     ...\n",
       "195   65.80  120.84\n",
       "196   66.11  115.78\n",
       "197   68.24  128.30\n",
       "198   68.02  127.47\n",
       "199   71.39  127.88\n",
       "\n",
       "[200 rows x 2 columns]"
      ]
     },
     "execution_count": 30,
     "metadata": {},
     "output_type": "execute_result"
    }
   ],
   "source": [
    "#Escalado de nUmero de estatura\n",
    "df['Altura'] = df['Altura'].astype('float')\n",
    "#Escalado del peso \n",
    "df['Peso'] = df['Peso'].astype('float')\n",
    "df.head(200)"
   ]
  },
  {
   "cell_type": "code",
   "execution_count": 31,
   "id": "b47a4e12",
   "metadata": {},
   "outputs": [
    {
     "data": {
      "image/png": "[encoded data removed]",
      "text/plain": [
       "<Figure size 432x288 with 1 Axes>"
      ]
     },
     "metadata": {
      "needs_background": "light"
     },
     "output_type": "display_data"
    }
   ],
   "source": [
    "#Representacion grafica del conjunto de datos\n",
    "plt.plot(df[\"Altura\"],df[\"Peso\"],\"b.\")\n",
    "plt.xlabel(\"Altura\")\n",
    "plt.ylabel(\"Peso\")\n",
    "plt.show()"
   ]
  },
  {
   "cell_type": "markdown",
   "id": "83ade1f4",
   "metadata": {},
   "source": [
    "### 4.- Construcción del Modelo"
   ]
  },
  {
   "cell_type": "code",
   "execution_count": 32,
   "id": "f04797b5",
   "metadata": {},
   "outputs": [],
   "source": [
    "from sklearn.linear_model import LinearRegression"
   ]
  },
  {
   "cell_type": "code",
   "execution_count": 33,
   "id": "88940ca8",
   "metadata": {},
   "outputs": [
    {
     "data": {
      "text/plain": [
       "LinearRegression()"
      ]
     },
     "execution_count": 33,
     "metadata": {},
     "output_type": "execute_result"
    }
   ],
   "source": [
    "# Constucion del modelo de ajustes de hipotesis \n",
    "lin_reg = LinearRegression ()\n",
    "lin_reg.fit(df['Altura'].values.reshape(-1, 1), df['Peso'].values)"
   ]
  },
  {
   "cell_type": "code",
   "execution_count": 34,
   "id": "4017eb84",
   "metadata": {},
   "outputs": [
    {
     "data": {
      "text/plain": [
       "-106.02770644878132"
      ]
     },
     "execution_count": 34,
     "metadata": {},
     "output_type": "execute_result"
    }
   ],
   "source": [
    "# Calcular el parametro de theta 0\n",
    "lin_reg.intercept_"
   ]
  },
  {
   "cell_type": "code",
   "execution_count": 35,
   "id": "39aa65d6",
   "metadata": {},
   "outputs": [
    {
     "data": {
      "text/plain": [
       "array([3.43267613])"
      ]
     },
     "execution_count": 35,
     "metadata": {},
     "output_type": "execute_result"
    }
   ],
   "source": [
    "# parametros Theta 1\n",
    "lin_reg.coef_"
   ]
  },
  {
   "cell_type": "code",
   "execution_count": 36,
   "id": "b6a88b6a",
   "metadata": {},
   "outputs": [],
   "source": [
    "# Predicción para el valor minimo y máximo de datos de entrenamiento\n",
    "x_min_max = np.array([[df['Altura'].min()],[df['Altura'].max()]])\n",
    "y_train_pred = lin_reg.predict(x_min_max)"
   ]
  },
  {
   "cell_type": "code",
   "execution_count": 37,
   "id": "8ea65494",
   "metadata": {},
   "outputs": [
    {
     "data": {
      "image/png": "[encoded data removed]",
      "text/plain": [
       "<Figure size 432x288 with 1 Axes>"
      ]
     },
     "metadata": {
      "needs_background": "light"
     },
     "output_type": "display_data"
    }
   ],
   "source": [
    "# Representación gráfica de la función de hipótesis generada\n",
    "plt.plot(x_min_max, y_train_pred, \"g--\")\n",
    "plt.plot(df['Altura'], df['Peso'],\"b.\")\n",
    "plt.xlabel(\"Altura\")\n",
    "plt.ylabel(\"Peso\")\n",
    "plt.show()"
   ]
  },
  {
   "cell_type": "markdown",
   "id": "2a02de5b",
   "metadata": {},
   "source": [
    "### 5.- Predicción de Nuevos Ejemplos"
   ]
  },
  {
   "cell_type": "code",
   "execution_count": 40,
   "id": "b990ecc1",
   "metadata": {},
   "outputs": [
    {
     "name": "stdout",
     "output_type": "stream",
     "text": [
      "El peso es:  117\n"
     ]
    }
   ],
   "source": [
    "x_new = np.array([[65]]) #100 alturas\n",
    "\n",
    "# La predicción del peso\n",
    "Peso = lin_reg.predict(x_new)\n",
    "\n",
    "print(\"El peso es: \", int(Peso[0]))"
   ]
  },
  {
   "cell_type": "code",
   "execution_count": 41,
   "id": "c84d854c",
   "metadata": {},
   "outputs": [
    {
     "data": {
      "image/png": "[encoded data removed]",
      "text/plain": [
       "<Figure size 432x288 with 1 Axes>"
      ]
     },
     "metadata": {
      "needs_background": "light"
     },
     "output_type": "display_data"
    }
   ],
   "source": [
    "plt.plot(df['Altura'], df['Peso'],\"b.\")\n",
    "plt.plot(x_min_max, y_train_pred, \"g-\")\n",
    "plt.plot(x_new, Peso, \"rx\")\n",
    "plt.xlabel(\"Altura\")\n",
    "plt.ylabel(\"Peso\")\n",
    "plt.show()"
   ]
  },
  {
   "cell_type": "code",
   "execution_count": null,
   "id": "9c91399b",
   "metadata": {},
   "outputs": [],
   "source": []
  }
 ],
 "metadata": {
  "kernelspec": {
   "display_name": "Python 3 (ipykernel)",
   "language": "python",
   "name": "python3"
  },
  "language_info": {
   "codemirror_mode": {
    "name": "ipython",
    "version": 3
   },
   "file_extension": ".py",
   "mimetype": "text/x-python",
   "name": "python",
   "nbconvert_exporter": "python",
   "pygments_lexer": "ipython3",
   "version": "3.9.12"
  }
 },
 "nbformat": 4,
 "nbformat_minor": 5
}
