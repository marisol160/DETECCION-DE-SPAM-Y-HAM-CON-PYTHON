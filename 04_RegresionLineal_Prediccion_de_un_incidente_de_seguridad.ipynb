{
 "cells": [
  {
   "cell_type": "markdown",
   "id": "2bfc91cb",
   "metadata": {},
   "source": [
    "# Regresion Lineal: Costo de un incidente de Seguridad"
   ]
  },
  {
   "cell_type": "markdown",
   "id": "c3ae35f4",
   "metadata": {},
   "source": [
    "En este ejercicio se explican los fundamentos basicos de la regresion lineal aplicado a un caso de uso sencillo relacionado con la ciberseguridad"
   ]
  },
  {
   "cell_type": "markdown",
   "id": "979f8285",
   "metadata": {},
   "source": [
    "## Enunciado del Ejercicio"
   ]
  },
  {
   "cell_type": "markdown",
   "id": "afb7a8c2",
   "metadata": {},
   "source": [
    "El ejercicio consiste en predecir el costo de un incidente de seguridad en base a los equipos que han sido afectados. El conjunto de datos es generado de manera aleatoria"
   ]
  },
  {
   "cell_type": "markdown",
   "id": "3e099ba1",
   "metadata": {},
   "source": [
    "### 1.- Generacion del Conjunto de Datos "
   ]
  },
  {
   "cell_type": "code",
   "execution_count": 4,
   "id": "9fc8fc95",
   "metadata": {},
   "outputs": [
    {
     "name": "stdout",
     "output_type": "stream",
     "text": [
      "La longitud del conjuto de datos es:  100\n"
     ]
    }
   ],
   "source": [
    "import numpy as np\n",
    "\n",
    "x = 2 * np.random.rand(100,1)\n",
    "y = 4 + 3 * x + np.random.randn(100,1)\n",
    "print(\"La longitud del conjuto de datos es: \", len(x))"
   ]
  },
  {
   "cell_type": "markdown",
   "id": "89a2af95",
   "metadata": {},
   "source": [
    "### 2.- Visualización del Conjunto de Datos"
   ]
  },
  {
   "cell_type": "code",
   "execution_count": 8,
   "id": "d2c56874",
   "metadata": {},
   "outputs": [],
   "source": [
    "import matplotlib.pyplot as plt\n",
    "%matplotlib inline"
   ]
  },
  {
   "cell_type": "code",
   "execution_count": 9,
   "id": "00dd1cba",
   "metadata": {},
   "outputs": [
    {
     "data": {
      "image/png": "[encoded data removed]",
      "text/plain": [
       "<Figure size 432x288 with 1 Axes>"
      ]
     },
     "metadata": {
      "needs_background": "light"
     },
     "output_type": "display_data"
    }
   ],
   "source": [
    "plt.plot(x, y, 'b.')\n",
    "plt.show()"
   ]
  },
  {
   "cell_type": "code",
   "execution_count": 10,
   "id": "9f6b238d",
   "metadata": {},
   "outputs": [
    {
     "data": {
      "image/png": "[encoded data removed]",
      "text/plain": [
       "<Figure size 432x288 with 1 Axes>"
      ]
     },
     "metadata": {
      "needs_background": "light"
     },
     "output_type": "display_data"
    }
   ],
   "source": [
    "plt.plot(x, y, 'b.')\n",
    "plt.xlabel(\"Equipos afectados (u/1,000)\")\n",
    "plt.ylabel(\"Costo del incidente (u/1,000)\")\n",
    "plt.show()"
   ]
  },
  {
   "cell_type": "markdown",
   "id": "cc389bad",
   "metadata": {},
   "source": [
    "### 3.- Modificacion del Conjunto de Datos"
   ]
  },
  {
   "cell_type": "code",
   "execution_count": 11,
   "id": "23f59ac5",
   "metadata": {},
   "outputs": [],
   "source": [
    "import pandas as pd"
   ]
  },
  {
   "cell_type": "code",
   "execution_count": 13,
   "id": "771243c5",
   "metadata": {},
   "outputs": [
    {
     "data": {
      "text/html": [
       "<div>\n",
       "<style scoped>\n",
       "    .dataframe tbody tr th:only-of-type {\n",
       "        vertical-align: middle;\n",
       "    }\n",
       "\n",
       "    .dataframe tbody tr th {\n",
       "        vertical-align: top;\n",
       "    }\n",
       "\n",
       "    .dataframe thead th {\n",
       "        text-align: right;\n",
       "    }\n",
       "</style>\n",
       "<table border=\"1\" class=\"dataframe\">\n",
       "  <thead>\n",
       "    <tr style=\"text-align: right;\">\n",
       "      <th></th>\n",
       "      <th>No_Equipos_Afectados</th>\n",
       "      <th>Costo</th>\n",
       "    </tr>\n",
       "  </thead>\n",
       "  <tbody>\n",
       "    <tr>\n",
       "      <th>0</th>\n",
       "      <td>0.126697</td>\n",
       "      <td>6.182210</td>\n",
       "    </tr>\n",
       "    <tr>\n",
       "      <th>1</th>\n",
       "      <td>0.581263</td>\n",
       "      <td>6.087561</td>\n",
       "    </tr>\n",
       "    <tr>\n",
       "      <th>2</th>\n",
       "      <td>1.928344</td>\n",
       "      <td>12.050518</td>\n",
       "    </tr>\n",
       "    <tr>\n",
       "      <th>3</th>\n",
       "      <td>1.279826</td>\n",
       "      <td>8.666840</td>\n",
       "    </tr>\n",
       "    <tr>\n",
       "      <th>4</th>\n",
       "      <td>1.975260</td>\n",
       "      <td>10.244040</td>\n",
       "    </tr>\n",
       "    <tr>\n",
       "      <th>5</th>\n",
       "      <td>1.399519</td>\n",
       "      <td>9.545761</td>\n",
       "    </tr>\n",
       "    <tr>\n",
       "      <th>6</th>\n",
       "      <td>0.183477</td>\n",
       "      <td>3.831531</td>\n",
       "    </tr>\n",
       "    <tr>\n",
       "      <th>7</th>\n",
       "      <td>0.178121</td>\n",
       "      <td>4.935774</td>\n",
       "    </tr>\n",
       "    <tr>\n",
       "      <th>8</th>\n",
       "      <td>0.506714</td>\n",
       "      <td>4.581154</td>\n",
       "    </tr>\n",
       "    <tr>\n",
       "      <th>9</th>\n",
       "      <td>1.978304</td>\n",
       "      <td>8.966880</td>\n",
       "    </tr>\n",
       "  </tbody>\n",
       "</table>\n",
       "</div>"
      ],
      "text/plain": [
       "   No_Equipos_Afectados      Costo\n",
       "0              0.126697   6.182210\n",
       "1              0.581263   6.087561\n",
       "2              1.928344  12.050518\n",
       "3              1.279826   8.666840\n",
       "4              1.975260  10.244040\n",
       "5              1.399519   9.545761\n",
       "6              0.183477   3.831531\n",
       "7              0.178121   4.935774\n",
       "8              0.506714   4.581154\n",
       "9              1.978304   8.966880"
      ]
     },
     "execution_count": 13,
     "metadata": {},
     "output_type": "execute_result"
    }
   ],
   "source": [
    "data = {'No_Equipos_Afectados' : x.flatten(), 'Costo' : y.flatten()}\n",
    "df = pd.DataFrame(data)\n",
    "df.head(10)"
   ]
  },
  {
   "cell_type": "code",
   "execution_count": 14,
   "id": "6d93e721",
   "metadata": {},
   "outputs": [
    {
     "data": {
      "text/html": [
       "<div>\n",
       "<style scoped>\n",
       "    .dataframe tbody tr th:only-of-type {\n",
       "        vertical-align: middle;\n",
       "    }\n",
       "\n",
       "    .dataframe tbody tr th {\n",
       "        vertical-align: top;\n",
       "    }\n",
       "\n",
       "    .dataframe thead th {\n",
       "        text-align: right;\n",
       "    }\n",
       "</style>\n",
       "<table border=\"1\" class=\"dataframe\">\n",
       "  <thead>\n",
       "    <tr style=\"text-align: right;\">\n",
       "      <th></th>\n",
       "      <th>No_Equipos_Afectados</th>\n",
       "      <th>Costo</th>\n",
       "    </tr>\n",
       "  </thead>\n",
       "  <tbody>\n",
       "    <tr>\n",
       "      <th>0</th>\n",
       "      <td>126</td>\n",
       "      <td>61822</td>\n",
       "    </tr>\n",
       "    <tr>\n",
       "      <th>1</th>\n",
       "      <td>581</td>\n",
       "      <td>60875</td>\n",
       "    </tr>\n",
       "    <tr>\n",
       "      <th>2</th>\n",
       "      <td>1928</td>\n",
       "      <td>120505</td>\n",
       "    </tr>\n",
       "    <tr>\n",
       "      <th>3</th>\n",
       "      <td>1279</td>\n",
       "      <td>86668</td>\n",
       "    </tr>\n",
       "    <tr>\n",
       "      <th>4</th>\n",
       "      <td>1975</td>\n",
       "      <td>102440</td>\n",
       "    </tr>\n",
       "    <tr>\n",
       "      <th>5</th>\n",
       "      <td>1399</td>\n",
       "      <td>95457</td>\n",
       "    </tr>\n",
       "    <tr>\n",
       "      <th>6</th>\n",
       "      <td>183</td>\n",
       "      <td>38315</td>\n",
       "    </tr>\n",
       "    <tr>\n",
       "      <th>7</th>\n",
       "      <td>178</td>\n",
       "      <td>49357</td>\n",
       "    </tr>\n",
       "    <tr>\n",
       "      <th>8</th>\n",
       "      <td>506</td>\n",
       "      <td>45811</td>\n",
       "    </tr>\n",
       "    <tr>\n",
       "      <th>9</th>\n",
       "      <td>1978</td>\n",
       "      <td>89668</td>\n",
       "    </tr>\n",
       "  </tbody>\n",
       "</table>\n",
       "</div>"
      ],
      "text/plain": [
       "   No_Equipos_Afectados   Costo\n",
       "0                   126   61822\n",
       "1                   581   60875\n",
       "2                  1928  120505\n",
       "3                  1279   86668\n",
       "4                  1975  102440\n",
       "5                  1399   95457\n",
       "6                   183   38315\n",
       "7                   178   49357\n",
       "8                   506   45811\n",
       "9                  1978   89668"
      ]
     },
     "execution_count": 14,
     "metadata": {},
     "output_type": "execute_result"
    }
   ],
   "source": [
    "# Escalado de numero de equipos afectados\n",
    "df['No_Equipos_Afectados'] = df['No_Equipos_Afectados'] * 1000\n",
    "df['No_Equipos_Afectados'] = df['No_Equipos_Afectados'].astype('int')\n",
    "# escalado del costo\n",
    "df['Costo'] = df['Costo'] * 10000\n",
    "df['Costo'] = df['Costo'].astype('int')\n",
    "df.head(10)"
   ]
  },
  {
   "cell_type": "code",
   "execution_count": 15,
   "id": "9b179674",
   "metadata": {},
   "outputs": [
    {
     "data": {
      "image/png": "[encoded data removed]",
      "text/plain": [
       "<Figure size 432x288 with 1 Axes>"
      ]
     },
     "metadata": {
      "needs_background": "light"
     },
     "output_type": "display_data"
    }
   ],
   "source": [
    "# Representacion grafica del conjunto de datos\n",
    "plt.plot(df['No_Equipos_Afectados'], df['Costo'], \"b.\")\n",
    "plt.xlabel(\"Equipos Afectados\")\n",
    "plt.ylabel(\"Costo del Incidente\")\n",
    "plt.show()"
   ]
  },
  {
   "cell_type": "markdown",
   "id": "209b00ad",
   "metadata": {},
   "source": [
    "### 4.- Construccion del Modelo"
   ]
  },
  {
   "cell_type": "code",
   "execution_count": 17,
   "id": "08284052",
   "metadata": {},
   "outputs": [],
   "source": [
    "from sklearn.linear_model import LinearRegression"
   ]
  },
  {
   "cell_type": "code",
   "execution_count": 18,
   "id": "a917414e",
   "metadata": {},
   "outputs": [
    {
     "data": {
      "text/plain": [
       "LinearRegression()"
      ]
     },
     "execution_count": 18,
     "metadata": {},
     "output_type": "execute_result"
    }
   ],
   "source": [
    "# Construccion del modelo y ajuste de hipotesis\n",
    "lin_reg = LinearRegression()\n",
    "lin_reg.fit(df['No_Equipos_Afectados'].values.reshape(-1, 1), df['Costo'].values)"
   ]
  },
  {
   "cell_type": "code",
   "execution_count": 20,
   "id": "6c876b4c",
   "metadata": {},
   "outputs": [
    {
     "data": {
      "text/plain": [
       "43134.18431240339"
      ]
     },
     "execution_count": 20,
     "metadata": {},
     "output_type": "execute_result"
    }
   ],
   "source": [
    "# Calcular Parametro Theta 0\n",
    "lin_reg.intercept_"
   ]
  },
  {
   "cell_type": "code",
   "execution_count": 21,
   "id": "7b470459",
   "metadata": {},
   "outputs": [
    {
     "data": {
      "text/plain": [
       "array([29.21752878])"
      ]
     },
     "execution_count": 21,
     "metadata": {},
     "output_type": "execute_result"
    }
   ],
   "source": [
    "# parametros Theta 1\n",
    "lin_reg.coef_"
   ]
  },
  {
   "cell_type": "code",
   "execution_count": 22,
   "id": "9b3e0da5",
   "metadata": {},
   "outputs": [],
   "source": [
    "# Prediccion para el valor minimo y maximo de datos de entrenamiento\n",
    "x_min_max = np.array([[df['No_Equipos_Afectados'].min()], [df['No_Equipos_Afectados'].max()]])\n",
    "y_train_pred = lin_reg.predict(x_min_max)"
   ]
  },
  {
   "cell_type": "code",
   "execution_count": 24,
   "id": "5d9d9817",
   "metadata": {},
   "outputs": [
    {
     "data": {
      "image/png": "[encoded data removed]",
      "text/plain": [
       "<Figure size 432x288 with 1 Axes>"
      ]
     },
     "metadata": {
      "needs_background": "light"
     },
     "output_type": "display_data"
    }
   ],
   "source": [
    "# Representacion grafica de la funcion de hipotesis generada\n",
    "plt.plot(x_min_max, y_train_pred, \"g-\")\n",
    "plt.plot(df['No_Equipos_Afectados'], df['Costo'], \"b.\")\n",
    "plt.xlabel(\"Equipos afectyados\")\n",
    "plt.ylabel(\"Costo del incidente\")\n",
    "plt.show()"
   ]
  },
  {
   "cell_type": "markdown",
   "id": "eb6ab50c",
   "metadata": {},
   "source": [
    "### 5.- Prediccion de Nuevos Ejemplos"
   ]
  },
  {
   "cell_type": "code",
   "execution_count": 34,
   "id": "7a6fe5d1",
   "metadata": {},
   "outputs": [
    {
     "name": "stdout",
     "output_type": "stream",
     "text": [
      "El costo del incidente seria: $ 81116\n"
     ]
    }
   ],
   "source": [
    "x_new = np.array([[1300]]) # 1300 equipos afectados\n",
    "\n",
    "# La prediciion del costo que tendria el insidente\n",
    "costo = lin_reg.predict(x_new)\n",
    "print(\"El costo del incidente seria: $\", int(costo[0]))"
   ]
  },
  {
   "cell_type": "code",
   "execution_count": 35,
   "id": "6a3bce09",
   "metadata": {},
   "outputs": [
    {
     "data": {
      "image/png": "[encoded data removed]",
      "text/plain": [
       "<Figure size 432x288 with 1 Axes>"
      ]
     },
     "metadata": {
      "needs_background": "light"
     },
     "output_type": "display_data"
    }
   ],
   "source": [
    "plt.plot(df['No_Equipos_Afectados'], df['Costo'], \"b.\")\n",
    "plt.plot(x_min_max, y_train_pred, \"g-\")\n",
    "plt.plot(x_new, costo, \"rx\")\n",
    "plt.xlabel(\"Equipos Afectados\")\n",
    "plt.ylabel(\"Costo del incidente\")\n",
    "plt.show()"
   ]
  },
  {
   "cell_type": "code",
   "execution_count": null,
   "id": "4fa08064",
   "metadata": {},
   "outputs": [],
   "source": []
  }
 ],
 "metadata": {
  "kernelspec": {
   "display_name": "Python 3 (ipykernel)",
   "language": "python",
   "name": "python3"
  },
  "language_info": {
   "codemirror_mode": {
    "name": "ipython",
    "version": 3
   },
   "file_extension": ".py",
   "mimetype": "text/x-python",
   "name": "python",
   "nbconvert_exporter": "python",
   "pygments_lexer": "ipython3",
   "version": "3.9.12"
  }
 },
 "nbformat": 4,
 "nbformat_minor": 5
}
